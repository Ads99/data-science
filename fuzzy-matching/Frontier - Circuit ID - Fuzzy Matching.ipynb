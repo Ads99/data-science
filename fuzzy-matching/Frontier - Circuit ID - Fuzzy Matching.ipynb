{
 "cells": [
  {
   "cell_type": "code",
   "execution_count": 1,
   "metadata": {},
   "outputs": [
    {
     "name": "stderr",
     "output_type": "stream",
     "text": [
      "C:\\Users\\ABaker\\Anaconda3\\envs\\fuzzy\\lib\\site-packages\\fuzzywuzzy\\fuzz.py:11: UserWarning: Using slow pure-python SequenceMatcher. Install python-Levenshtein to remove this warning\n",
      "  warnings.warn('Using slow pure-python SequenceMatcher. Install python-Levenshtein to remove this warning')\n"
     ]
    }
   ],
   "source": [
    "import pandas as pd\n",
    "from fuzzywuzzy import process, fuzz  # <-- note the difference\n",
    "from difflib import SequenceMatcher"
   ]
  },
  {
   "cell_type": "code",
   "execution_count": 22,
   "metadata": {},
   "outputs": [],
   "source": [
    "billing_circuit = pd.read_csv(\"C:/Users/ABaker/Desktop/Frontier/Billing_Circuit.csv\", encoding=\"utf-8\")\n",
    "m6_circuit = pd.read_csv(\"C:/Users/ABaker/Desktop/Frontier/M6_Circuit.csv\", encoding=\"utf-8\")"
   ]
  },
  {
   "cell_type": "code",
   "execution_count": 26,
   "metadata": {},
   "outputs": [],
   "source": [
    "billing_circuit.CIRCUIT.fillna(billing_circuit.CIRCUIT, inplace = True)\n",
    "m6_circuit.CIRCUIT.fillna(m6_circuit.CIRCUIT, inplace = True)\n",
    "billing_circuit.loc[:, 'CIRCUIT'] = billing_circuit.CIRCUIT.astype(str)\n",
    "m6_circuit.loc[:, 'CIRCUIT'] = m6_circuit.CIRCUIT.astype(str)"
   ]
  },
  {
   "cell_type": "code",
   "execution_count": 27,
   "metadata": {},
   "outputs": [
    {
     "data": {
      "text/html": [
       "<div>\n",
       "<style scoped>\n",
       "    .dataframe tbody tr th:only-of-type {\n",
       "        vertical-align: middle;\n",
       "    }\n",
       "\n",
       "    .dataframe tbody tr th {\n",
       "        vertical-align: top;\n",
       "    }\n",
       "\n",
       "    .dataframe thead th {\n",
       "        text-align: right;\n",
       "    }\n",
       "</style>\n",
       "<table border=\"1\" class=\"dataframe\">\n",
       "  <thead>\n",
       "    <tr style=\"text-align: right;\">\n",
       "      <th></th>\n",
       "      <th>CIRCUIT</th>\n",
       "    </tr>\n",
       "  </thead>\n",
       "  <tbody>\n",
       "    <tr>\n",
       "      <th>0</th>\n",
       "      <td>Z801/OC3/RDMDWARKH01/RDMDWARKO03</td>\n",
       "    </tr>\n",
       "    <tr>\n",
       "      <th>1</th>\n",
       "      <td>XXXXXXXXXX</td>\n",
       "    </tr>\n",
       "    <tr>\n",
       "      <th>2</th>\n",
       "      <td>XXXXX</td>\n",
       "    </tr>\n",
       "    <tr>\n",
       "      <th>3</th>\n",
       "      <td>XHGS/243059//MB</td>\n",
       "    </tr>\n",
       "    <tr>\n",
       "      <th>4</th>\n",
       "      <td>X PENDING STILL 3/31/16</td>\n",
       "    </tr>\n",
       "  </tbody>\n",
       "</table>\n",
       "</div>"
      ],
      "text/plain": [
       "                            CIRCUIT\n",
       "0  Z801/OC3/RDMDWARKH01/RDMDWARKO03\n",
       "1                        XXXXXXXXXX\n",
       "2                             XXXXX\n",
       "3                   XHGS/243059//MB\n",
       "4           X PENDING STILL 3/31/16"
      ]
     },
     "execution_count": 27,
     "metadata": {},
     "output_type": "execute_result"
    }
   ],
   "source": [
    "billing_circuit.head()"
   ]
  },
  {
   "cell_type": "code",
   "execution_count": 28,
   "metadata": {},
   "outputs": [
    {
     "data": {
      "text/html": [
       "<div>\n",
       "<style scoped>\n",
       "    .dataframe tbody tr th:only-of-type {\n",
       "        vertical-align: middle;\n",
       "    }\n",
       "\n",
       "    .dataframe tbody tr th {\n",
       "        vertical-align: top;\n",
       "    }\n",
       "\n",
       "    .dataframe thead th {\n",
       "        text-align: right;\n",
       "    }\n",
       "</style>\n",
       "<table border=\"1\" class=\"dataframe\">\n",
       "  <thead>\n",
       "    <tr style=\"text-align: right;\">\n",
       "      <th></th>\n",
       "      <th>CIRCUIT</th>\n",
       "    </tr>\n",
       "  </thead>\n",
       "  <tbody>\n",
       "    <tr>\n",
       "      <th>0</th>\n",
       "      <td>50/VLXP/937555/   /CZUC/</td>\n",
       "    </tr>\n",
       "    <tr>\n",
       "      <th>1</th>\n",
       "      <td>50/VLXP/996537/   /CZUC/</td>\n",
       "    </tr>\n",
       "    <tr>\n",
       "      <th>2</th>\n",
       "      <td>64/CUXM/635198/001/CZUC/</td>\n",
       "    </tr>\n",
       "    <tr>\n",
       "      <th>3</th>\n",
       "      <td>64/CUXM/635198/002/CZUC/</td>\n",
       "    </tr>\n",
       "    <tr>\n",
       "      <th>4</th>\n",
       "      <td>64/CUXM/635198/003/CZUC/</td>\n",
       "    </tr>\n",
       "  </tbody>\n",
       "</table>\n",
       "</div>"
      ],
      "text/plain": [
       "                       CIRCUIT\n",
       "0  50/VLXP/937555/   /CZUC/   \n",
       "1  50/VLXP/996537/   /CZUC/   \n",
       "2  64/CUXM/635198/001/CZUC/   \n",
       "3  64/CUXM/635198/002/CZUC/   \n",
       "4  64/CUXM/635198/003/CZUC/   "
      ]
     },
     "execution_count": 28,
     "metadata": {},
     "output_type": "execute_result"
    }
   ],
   "source": [
    "m6_circuit.head() "
   ]
  },
  {
   "cell_type": "code",
   "execution_count": 29,
   "metadata": {},
   "outputs": [],
   "source": [
    "billing_circuit = billing_circuit.head(n=10000)"
   ]
  },
  {
   "cell_type": "code",
   "execution_count": 30,
   "metadata": {},
   "outputs": [],
   "source": [
    "m6_circuit = m6_circuit.head(n=10000) "
   ]
  },
  {
   "cell_type": "code",
   "execution_count": null,
   "metadata": {},
   "outputs": [],
   "source": [
    "query = billing_circuit['CIRCUIT']\n",
    "choices = m6_circuit['CIRCUIT']\n",
    "\n",
    "for query in query:\n",
    "    #       vvvvvvv  note the difference\n",
    "    match = process.extractOne(query,choices=choices,scorer=fuzz.token_sort_ratio,score_cutoff=80)"
   ]
  },
  {
   "cell_type": "code",
   "execution_count": null,
   "metadata": {},
   "outputs": [],
   "source": [
    "print(match)"
   ]
  },
  {
   "cell_type": "markdown",
   "metadata": {},
   "source": [
    "#### Fuzzy Matching tutoral from here : http://blog.keyrus.co.uk/fuzzy_matching_101_part_ii.html"
   ]
  },
  {
   "cell_type": "code",
   "execution_count": null,
   "metadata": {},
   "outputs": [],
   "source": [
    "#billing_circuit.loc[:,]\n",
    "#billing_circuit.dtypes\n",
    "m6_circuit.dtypes"
   ]
  },
  {
   "cell_type": "code",
   "execution_count": null,
   "metadata": {},
   "outputs": [],
   "source": [
    "def fuzzy_match(entity, choices, scorer, cutoff):\n",
    "    return process.extractOne(\n",
    "        entity, choices=choices, scorer=scorer, score_cutoff=cutoff\n",
    "    )"
   ]
  },
  {
   "cell_type": "code",
   "execution_count": null,
   "metadata": {},
   "outputs": [],
   "source": [
    "matching_results = billing_circuit.loc[:,].apply(\n",
    "    fuzzy_match,\n",
    "    args=(\n",
    "        m6_circuit.loc[:,], # choices\n",
    "        fuzz.ratio,                 # scorer\n",
    "        80                          #cutoff\n",
    "    )\n",
    ")"
   ]
  },
  {
   "cell_type": "code",
   "execution_count": null,
   "metadata": {},
   "outputs": [],
   "source": []
  },
  {
   "cell_type": "code",
   "execution_count": null,
   "metadata": {},
   "outputs": [],
   "source": [
    "changed as suggested above, changed the loop as well to: for row in names.itertuples(): print((row[1])) match = process.extractOne(row[1],reference,partial_token_set_ratio,score_cutoff=70) and still cannot get it working. This time there is a different error : NameError: name 'partial_token_set_ratio' is not defined – Chris May 6 at 23:43 \n",
    "It may be that fuzzywuzzy isn't very smart about its imports. Try adding from fuzzywuzzy import fuzz to your imports and see what happens. – PaSTE May 7 at 0:13\n",
    "it seems that the apply function is the better way than a loop, as demonstrated here blog.keyrus.co.uk/fuzzy_matching_101_part_ii.html – Chris May 8 at 19:19"
   ]
  },
  {
   "cell_type": "code",
   "execution_count": null,
   "metadata": {},
   "outputs": [],
   "source": [
    "query = set_1['name']\n",
    "choices = set_2['name2']\n",
    "\n",
    "for query in query:\n",
    "    #       vvvvvvv  note the difference\n",
    "    match = process.extractOne(query,choises=choises,scorer=scorer,score_cutoff=cutoff)"
   ]
  }
 ],
 "metadata": {
  "kernelspec": {
   "display_name": "Python [default]",
   "language": "python",
   "name": "python3"
  },
  "language_info": {
   "codemirror_mode": {
    "name": "ipython",
    "version": 3
   },
   "file_extension": ".py",
   "mimetype": "text/x-python",
   "name": "python",
   "nbconvert_exporter": "python",
   "pygments_lexer": "ipython3",
   "version": "3.7.0"
  }
 },
 "nbformat": 4,
 "nbformat_minor": 2
}
