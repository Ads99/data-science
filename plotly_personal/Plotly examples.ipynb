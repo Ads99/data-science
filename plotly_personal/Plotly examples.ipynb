{
 "cells": [
  {
   "cell_type": "markdown",
   "metadata": {},
   "source": [
    "Taken from a Plotly <a href=\"https://plot.ly/python/county-level-choropleth/\">example</a>"
   ]
  },
  {
   "cell_type": "code",
   "execution_count": 1,
   "metadata": {
    "collapsed": true
   },
   "outputs": [],
   "source": [
    "import plotly"
   ]
  },
  {
   "cell_type": "code",
   "execution_count": 2,
   "metadata": {},
   "outputs": [
    {
     "data": {
      "text/plain": [
       "'2.1.0'"
      ]
     },
     "execution_count": 2,
     "metadata": {},
     "output_type": "execute_result"
    }
   ],
   "source": [
    "plotly.__version__"
   ]
  },
  {
   "cell_type": "markdown",
   "metadata": {},
   "source": [
    "In this tutorial, we will be creating a choropleth of Florida's counties with the Republican and Democratic counties colored red and blue respectively."
   ]
  },
  {
   "cell_type": "markdown",
   "metadata": {},
   "source": [
    "##### Mapbox\n",
    "To plot on Mapbox maps with Plotly you'll need a Mapbox account and a <a href=\"https://www.mapbox.com/studio/\">Mapbox Access Token</a> which you can add to your <a href=\"https://plot.ly/settings/mapbox\">Plotly settings</a>. If you're using a Plotly On-Premise server, please see additional instructions here: https://help.plot.ly/mapbox-atlas/."
   ]
  },
  {
   "cell_type": "markdown",
   "metadata": {},
   "source": [
    "##### Read the data\n",
    "Read both a GeoJSON file of the Florida counties and a webpage indicating Florida's voting registration by county"
   ]
  },
  {
   "cell_type": "code",
   "execution_count": 3,
   "metadata": {},
   "outputs": [
    {
     "ename": "ModuleNotFoundError",
     "evalue": "No module named 'markupbase'",
     "output_type": "error",
     "traceback": [
      "\u001b[1;31m---------------------------------------------------------------------------\u001b[0m",
      "\u001b[1;31mModuleNotFoundError\u001b[0m                       Traceback (most recent call last)",
      "\u001b[1;32m<ipython-input-3-567428630439>\u001b[0m in \u001b[0;36m<module>\u001b[1;34m()\u001b[0m\n\u001b[0;32m      1\u001b[0m \u001b[1;32mimport\u001b[0m \u001b[0murllib\u001b[0m\u001b[1;33m\u001b[0m\u001b[0m\n\u001b[0;32m      2\u001b[0m \u001b[1;32mimport\u001b[0m \u001b[0mast\u001b[0m\u001b[1;33m\u001b[0m\u001b[0m\n\u001b[1;32m----> 3\u001b[1;33m \u001b[1;32mimport\u001b[0m \u001b[0mHTMLParser\u001b[0m\u001b[1;33m\u001b[0m\u001b[0m\n\u001b[0m\u001b[0;32m      4\u001b[0m \u001b[1;32mimport\u001b[0m \u001b[0mstring\u001b[0m\u001b[1;33m\u001b[0m\u001b[0m\n\u001b[0;32m      5\u001b[0m \u001b[1;32mimport\u001b[0m \u001b[0mjson\u001b[0m\u001b[1;33m\u001b[0m\u001b[0m\n",
      "\u001b[1;32m~\\AppData\\Local\\Continuum\\Anaconda3\\envs\\plotly\\lib\\site-packages\\HTMLParser.py\u001b[0m in \u001b[0;36m<module>\u001b[1;34m()\u001b[0m\n\u001b[0;32m      9\u001b[0m \u001b[1;33m\u001b[0m\u001b[0m\n\u001b[0;32m     10\u001b[0m \u001b[1;33m\u001b[0m\u001b[0m\n\u001b[1;32m---> 11\u001b[1;33m \u001b[1;32mimport\u001b[0m \u001b[0mmarkupbase\u001b[0m\u001b[1;33m\u001b[0m\u001b[0m\n\u001b[0m\u001b[0;32m     12\u001b[0m \u001b[1;32mimport\u001b[0m \u001b[0mre\u001b[0m\u001b[1;33m\u001b[0m\u001b[0m\n\u001b[0;32m     13\u001b[0m \u001b[1;33m\u001b[0m\u001b[0m\n",
      "\u001b[1;31mModuleNotFoundError\u001b[0m: No module named 'markupbase'"
     ]
    }
   ],
   "source": [
    "import urllib\n",
    "import ast\n",
    "import HTMLParser\n",
    "import string\n",
    "import json\n",
    "\n",
    "url = 'http://catalog.civicdashboards.com/dataset/cda82e8b-7a8b-411e-95ba-1200b921c35d/resource/5c5d19a0-b817-49e6-b76e-ea63a8e2c0f6/download/fd880c1e4d23463ca869f1122109b3eftemp.geojson'\n",
    "florida_data = urllib.urlopen(url).read()\n",
    "florida_data = ast.literal_eval(florida_data)\n",
    "\n",
    "repub_democ_counties_url = 'http://dos.myflorida.com/elections/data-statistics/voter-registration-statistics/voter-registration-monthly-reports/voter-registration-current-by-county/'\n",
    "repub_democ_counties = urllib.urlopen(repub_democ_counties_url).read()"
   ]
  },
  {
   "cell_type": "markdown",
   "metadata": {},
   "source": [
    "Since we want to separate the counties into Republican and Democratic for the seperate coloring, and since the county names in the GeoJSON are fuller text descriptions of each county on the website, we need to parse through and convert the names in the GeoJSON to the website format"
   ]
  },
  {
   "cell_type": "code",
   "execution_count": 5,
   "metadata": {},
   "outputs": [
    {
     "ename": "NameError",
     "evalue": "name 'florida_data' is not defined",
     "output_type": "error",
     "traceback": [
      "\u001b[1;31m---------------------------------------------------------------------------\u001b[0m",
      "\u001b[1;31mNameError\u001b[0m                                 Traceback (most recent call last)",
      "\u001b[1;32m<ipython-input-5-b518a3f9fa38>\u001b[0m in \u001b[0;36m<module>\u001b[1;34m()\u001b[0m\n\u001b[0;32m      2\u001b[0m \u001b[0mcounty_names_dict\u001b[0m \u001b[1;33m=\u001b[0m \u001b[1;33m{\u001b[0m\u001b[1;33m}\u001b[0m\u001b[1;33m\u001b[0m\u001b[0m\n\u001b[0;32m      3\u001b[0m \u001b[1;33m\u001b[0m\u001b[0m\n\u001b[1;32m----> 4\u001b[1;33m \u001b[1;32mfor\u001b[0m \u001b[0mcounty\u001b[0m \u001b[1;32min\u001b[0m \u001b[0mflorida_data\u001b[0m\u001b[1;33m[\u001b[0m\u001b[1;34m'features'\u001b[0m\u001b[1;33m]\u001b[0m\u001b[1;33m:\u001b[0m\u001b[1;33m\u001b[0m\u001b[0m\n\u001b[0m\u001b[0;32m      5\u001b[0m     \u001b[1;32mfor\u001b[0m \u001b[0mm\u001b[0m \u001b[1;32min\u001b[0m \u001b[0mrange\u001b[0m\u001b[1;33m(\u001b[0m\u001b[0mlen\u001b[0m\u001b[1;33m(\u001b[0m\u001b[0mcounty\u001b[0m\u001b[1;33m[\u001b[0m\u001b[1;34m'properties'\u001b[0m\u001b[1;33m]\u001b[0m\u001b[1;33m[\u001b[0m\u001b[1;34m'name'\u001b[0m\u001b[1;33m]\u001b[0m\u001b[1;33m)\u001b[0m\u001b[1;33m)\u001b[0m\u001b[1;33m:\u001b[0m\u001b[1;33m\u001b[0m\u001b[0m\n\u001b[0;32m      6\u001b[0m         \u001b[1;32mif\u001b[0m \u001b[0mcounty\u001b[0m\u001b[1;33m[\u001b[0m\u001b[1;34m'properties'\u001b[0m\u001b[1;33m]\u001b[0m\u001b[1;33m[\u001b[0m\u001b[1;34m'name'\u001b[0m\u001b[1;33m]\u001b[0m\u001b[1;33m[\u001b[0m\u001b[0mm\u001b[0m\u001b[1;33m:\u001b[0m\u001b[0mm\u001b[0m\u001b[1;33m+\u001b[0m\u001b[1;36m6\u001b[0m\u001b[1;33m]\u001b[0m \u001b[1;33m==\u001b[0m \u001b[1;34m'County'\u001b[0m\u001b[1;33m:\u001b[0m\u001b[1;33m\u001b[0m\u001b[0m\n",
      "\u001b[1;31mNameError\u001b[0m: name 'florida_data' is not defined"
     ]
    }
   ],
   "source": [
    "county_names = []\n",
    "county_names_dict = {}\n",
    "\n",
    "for county in florida_data['features']:\n",
    "    for m in range(len(county['properties']['name'])):\n",
    "        if county['properties']['name'][m:m+6] == 'County':\n",
    "            county_names.append(county['properties']['name'][0:m-1])\n",
    "            county_names_dict[county['properties']['name'][0:m-1]] = county['properties']['name']\n",
    "            \n",
    "print (county_names)"
   ]
  },
  {
   "cell_type": "markdown",
   "metadata": {},
   "source": [
    "##### Color the Counties\n",
    "We now run a script to color our counties based on political party. This involves parsing through our list of counties, finding their cooresponding Republican/Democratic votes on the website, and place our data into the cooresponding list red_counties or blue_counties, based on which party has more votes"
   ]
  },
  {
   "cell_type": "code",
   "execution_count": 6,
   "metadata": {
    "collapsed": true
   },
   "outputs": [],
   "source": [
    "red_counties = []\n",
    "blue_counties = []\n",
    "\n",
    "for k, county in enumerate(county_names):\n",
    "    for j in range(len(repub_democ_counties)):\n",
    "        county_len = len(county)\n",
    "        if repub_democ_counties[j:j+county_len] == string.upper(county):\n",
    "            new_j = j\n",
    "\n",
    "            while True:\n",
    "                try:\n",
    "                    int(repub_democ_counties[new_j])\n",
    "                    break\n",
    "                except ValueError:\n",
    "                    new_j += 1\n",
    "\n",
    "    repub_votes = ''\n",
    "    while repub_democ_counties[new_j] != '<':\n",
    "        if repub_democ_counties[new_j] != ',':\n",
    "            repub_votes += repub_democ_counties[new_j]\n",
    "        new_j += 1\n",
    "    \n",
    "    # advance to next set of numbers\n",
    "    new_j += 11\n",
    "\n",
    "    democ_votes = ''\n",
    "    while repub_democ_counties[new_j] != '<':\n",
    "        if repub_democ_counties[new_j] != ',':\n",
    "            democ_votes += repub_democ_counties[new_j]\n",
    "        new_j += 1\n",
    "\n",
    "    repub_votes = int(repub_votes)\n",
    "    democ_votes = int(democ_votes)\n",
    "\n",
    "    if repub_votes >= democ_votes:\n",
    "        red_counties.append(florida_data['features'][k])\n",
    "    else:\n",
    "        blue_counties.append(florida_data['features'][k])"
   ]
  },
  {
   "cell_type": "markdown",
   "metadata": {},
   "source": [
    "#### Create JSON Files\n",
    "In <a href=\"https://github.com/plotly/datasets\">plotly/datasets</a>, you can find the generated JSON files below for the <a href=\"https://raw.githubusercontent.com/plotly/datasets/master/florida-red-data.json\">red counties</a> and <a href=\"https://raw.githubusercontent.com/plotly/datasets/master/florida-blue-data.json\">blue counties</a>"
   ]
  },
  {
   "cell_type": "code",
   "execution_count": 8,
   "metadata": {
    "collapsed": true
   },
   "outputs": [],
   "source": [
    "import json"
   ]
  },
  {
   "cell_type": "code",
   "execution_count": 9,
   "metadata": {
    "collapsed": true
   },
   "outputs": [],
   "source": [
    "red_data = {\"type\": \"FeatureCollection\"}\n",
    "red_data['features'] = red_counties\n",
    "\n",
    "blue_data = {\"type\": \"FeatureCollection\"}\n",
    "blue_data['features'] = blue_counties\n",
    "\n",
    "with open('florida-red-data.json', 'w') as f:\n",
    "    f.write(json.dumps(red_data))\n",
    "with open('florida-blue-data.json', 'w') as f:\n",
    "    f.write(json.dumps(blue_data))"
   ]
  },
  {
   "cell_type": "markdown",
   "metadata": {},
   "source": [
    "and we can now plot our choropleth using Python. Make sure to have a Mapbox Access Tolken for the generation of the plot. For more information on plotting Mapbox maps in Python, checkout the <a href=\"https://plot.ly/python/scattermapbox/\">documentation</a>"
   ]
  },
  {
   "cell_type": "code",
   "execution_count": 10,
   "metadata": {},
   "outputs": [
    {
     "data": {
      "text/html": [
       "<iframe id=\"igraph\" scrolling=\"no\" style=\"border:none;\" seamless=\"seamless\" src=\"https://plot.ly/~Ads/23.embed\" height=\"600px\" width=\"100%\"></iframe>"
      ],
      "text/plain": [
       "<plotly.tools.PlotlyDisplay object>"
      ]
     },
     "execution_count": 10,
     "metadata": {},
     "output_type": "execute_result"
    }
   ],
   "source": [
    "import plotly.plotly as py\n",
    "import plotly.graph_objs as graph_objs\n",
    "\n",
    "mapbox_access_token = \"pk.eyJ1IjoiYWRzOTkiLCJhIjoiY2o5ZnNoZ25kMDM2ODJwbXZpN2Z1aDF4cSJ9.LgxQBpFLPk7C_3G3GQoWPQ\"\n",
    "\n",
    "data = graph_objs.Data([\n",
    "    graph_objs.Scattermapbox(\n",
    "        lat=['45.5017'],\n",
    "        lon=['-73.5673'],\n",
    "        mode='markers',\n",
    "    )\n",
    "])\n",
    "layout = graph_objs.Layout(\n",
    "    height=600,\n",
    "    autosize=True,\n",
    "    hovermode='closest',\n",
    "    mapbox=dict(\n",
    "        layers=[\n",
    "            dict(\n",
    "                sourcetype = 'geojson',\n",
    "                source = 'https://raw.githubusercontent.com/plotly/datasets/master/florida-red-data.json',\n",
    "                type = 'fill',\n",
    "                color = 'rgba(163,22,19,0.8)'\n",
    "            ),\n",
    "            dict(\n",
    "                sourcetype = 'geojson',\n",
    "                source = 'https://raw.githubusercontent.com/plotly/datasets/master/florida-blue-data.json',\n",
    "                type = 'fill',\n",
    "                color = 'rgba(40,0,113,0.8)'\n",
    "            )\n",
    "        ],\n",
    "        accesstoken=mapbox_access_token,\n",
    "        bearing=0,\n",
    "        center=dict(\n",
    "            lat=27.8,\n",
    "            lon=-83\n",
    "        ),\n",
    "        pitch=0,\n",
    "        zoom=5.2,\n",
    "        style='light'\n",
    "    ),\n",
    ")\n",
    "\n",
    "fig = dict(data=data, layout=layout)\n",
    "py.iplot(fig, filename='county-level-choropleths-python')"
   ]
  }
 ],
 "metadata": {
  "kernelspec": {
   "display_name": "Python [conda env:plotly]",
   "language": "python",
   "name": "conda-env-plotly-py"
  },
  "language_info": {
   "codemirror_mode": {
    "name": "ipython",
    "version": 3
   },
   "file_extension": ".py",
   "mimetype": "text/x-python",
   "name": "python",
   "nbconvert_exporter": "python",
   "pygments_lexer": "ipython3",
   "version": "3.6.3"
  }
 },
 "nbformat": 4,
 "nbformat_minor": 2
}
